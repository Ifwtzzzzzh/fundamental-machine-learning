{
 "cells": [
  {
   "cell_type": "code",
   "execution_count": 5,
   "id": "55df0f2b-aebf-4503-96bf-1efbb570bc85",
   "metadata": {},
   "outputs": [],
   "source": [
    "import numpy as np\n",
    "import pylab as plb"
   ]
  },
  {
   "cell_type": "code",
   "execution_count": 49,
   "id": "0f4b5fd4-ae82-4077-ad08-162a8fecad61",
   "metadata": {},
   "outputs": [],
   "source": [
    "point_list = [(0,1), (1,6), (5,6), (5,4), (1,2), (2,3), (2,7)]"
   ]
  },
  {
   "cell_type": "code",
   "execution_count": 27,
   "id": "85e4ef45-a374-4e49-a127-d035ab6e0651",
   "metadata": {},
   "outputs": [
    {
     "data": {
      "image/png": "[encoded data removed]",
      "text/plain": [
       "<Figure size 640x480 with 1 Axes>"
      ]
     },
     "metadata": {},
     "output_type": "display_data"
    }
   ],
   "source": [
    "goal = 7\n",
    "import networkx as nx\n",
    "G = nx.Graph()\n",
    "G.add_edges_from(point_list)\n",
    "pos = nx.spring_layout(G)\n",
    "nx.draw_networkx_nodes(G, pos)\n",
    "nx.draw_networkx_edges(G, pos)\n",
    "nx.draw_networkx_labels(G, pos)\n",
    "plb.show()"
   ]
  },
  {
   "cell_type": "code",
   "execution_count": 29,
   "id": "2bd35a60-8d81-4b8b-8531-6f0a8f16172f",
   "metadata": {},
   "outputs": [
    {
     "name": "stdout",
     "output_type": "stream",
     "text": [
      "[[1. 1. 1. 1. 1. 1. 1. 1.]\n",
      " [1. 1. 1. 1. 1. 1. 1. 1.]\n",
      " [1. 1. 1. 1. 1. 1. 1. 1.]\n",
      " [1. 1. 1. 1. 1. 1. 1. 1.]\n",
      " [1. 1. 1. 1. 1. 1. 1. 1.]\n",
      " [1. 1. 1. 1. 1. 1. 1. 1.]\n",
      " [1. 1. 1. 1. 1. 1. 1. 1.]\n",
      " [1. 1. 1. 1. 1. 1. 1. 1.]]\n",
      "[[1. 1. 1. 1. 1. 1. 1. 1.]\n",
      " [1. 1. 1. 1. 1. 1. 1. 1.]\n",
      " [1. 1. 1. 1. 1. 1. 1. 1.]\n",
      " [1. 1. 1. 1. 1. 1. 1. 1.]\n",
      " [1. 1. 1. 1. 1. 1. 1. 1.]\n",
      " [1. 1. 1. 1. 1. 1. 1. 1.]\n",
      " [1. 1. 1. 1. 1. 1. 1. 1.]\n",
      " [1. 1. 1. 1. 1. 1. 1. 1.]]\n"
     ]
    }
   ],
   "source": [
    "MATRIX_SIZE = 8\n",
    "R = np.matrix(np.ones(shape = (MATRIX_SIZE, MATRIX_SIZE)))\n",
    "print(R)\n",
    "R *= 1\n",
    "print(R)"
   ]
  },
  {
   "cell_type": "code",
   "execution_count": 51,
   "id": "c7bd8e87-7c82-4cb9-964f-3a378b55491d",
   "metadata": {},
   "outputs": [
    {
     "data": {
      "text/plain": [
       "matrix([[  1.,   0.,   1.,   1.,   1.,   1.,   1.,   1.],\n",
       "        [  1.,   1.,   0.,   1.,   1.,   1.,   0.,   1.],\n",
       "        [  1.,   1.,   1.,   0.,   1.,   1.,   1., 100.],\n",
       "        [  1.,   1.,   1.,   1.,   1.,   1.,   1.,   1.],\n",
       "        [  1.,   1.,   1.,   1.,   1.,   1.,   1.,   1.],\n",
       "        [  1.,   1.,   1.,   1.,   0.,   1.,   0.,   1.],\n",
       "        [  1.,   1.,   1.,   1.,   1.,   1.,   1.,   1.],\n",
       "        [  1.,   1.,   1.,   1.,   1.,   1.,   1., 100.]])"
      ]
     },
     "execution_count": 51,
     "metadata": {},
     "output_type": "execute_result"
    }
   ],
   "source": [
    "for point in point_list:\n",
    "    if point[1] == goal:\n",
    "        R[point] = 100\n",
    "    else:\n",
    "        R[point] = 0\n",
    "    if point[0] == goal:\n",
    "        R[point[::-1]] = 1\n",
    "\n",
    "R[goal, goal] = 100\n",
    "R"
   ]
  },
  {
   "cell_type": "code",
   "execution_count": 73,
   "id": "3b440ef4-ad75-468b-a1b0-55e16693ae0c",
   "metadata": {},
   "outputs": [
    {
     "ename": "NameError",
     "evalue": "name 'state' is not defined",
     "output_type": "error",
     "traceback": [
      "\u001b[0;31m---------------------------------------------------------------------------\u001b[0m",
      "\u001b[0;31mNameError\u001b[0m                                 Traceback (most recent call last)",
      "Cell \u001b[0;32mIn[73], line 10\u001b[0m\n\u001b[1;32m      7\u001b[0m     av_act \u001b[38;5;241m=\u001b[39m np\u001b[38;5;241m.\u001b[39mwhere(current_state_row \u001b[38;5;241m>\u001b[39m\u001b[38;5;241m-\u001b[39m \u001b[38;5;241m0\u001b[39m)[\u001b[38;5;241m1\u001b[39m]\n\u001b[1;32m      8\u001b[0m     \u001b[38;5;28;01mreturn\u001b[39;00m av_act\n\u001b[0;32m---> 10\u001b[0m available_act \u001b[38;5;241m=\u001b[39m available_actions(initial_state)\n\u001b[1;32m     12\u001b[0m \u001b[38;5;28;01mdef\u001b[39;00m \u001b[38;5;21msample_next_action\u001b[39m(available_actions_range):\n\u001b[1;32m     13\u001b[0m     next_action \u001b[38;5;241m=\u001b[39m \u001b[38;5;28mint\u001b[39m(np\u001b[38;5;241m.\u001b[39mrandom\u001b[38;5;241m.\u001b[39mchoice(available_act, \u001b[38;5;241m1\u001b[39m))\n",
      "Cell \u001b[0;32mIn[73], line 6\u001b[0m, in \u001b[0;36mavailable_actions\u001b[0;34m(stae)\u001b[0m\n\u001b[1;32m      5\u001b[0m \u001b[38;5;28;01mdef\u001b[39;00m \u001b[38;5;21mavailable_actions\u001b[39m(stae):\n\u001b[0;32m----> 6\u001b[0m     current_state_row \u001b[38;5;241m=\u001b[39m R[state,]\n\u001b[1;32m      7\u001b[0m     av_act \u001b[38;5;241m=\u001b[39m np\u001b[38;5;241m.\u001b[39mwhere(current_state_row \u001b[38;5;241m>\u001b[39m\u001b[38;5;241m-\u001b[39m \u001b[38;5;241m0\u001b[39m)[\u001b[38;5;241m1\u001b[39m]\n\u001b[1;32m      8\u001b[0m     \u001b[38;5;28;01mreturn\u001b[39;00m av_act\n",
      "\u001b[0;31mNameError\u001b[0m: name 'state' is not defined"
     ]
    }
   ],
   "source": [
    "Q = np.matrix(np.zeros([MATRIX_SIZE, MATRIX_SIZE]))\n",
    "gamma = 0.8\n",
    "initial_state = 1\n",
    "\n",
    "def available_actions(state):\n",
    "    current_state_row = R[state,]\n",
    "    av_act = np.where(current_state_row >- 0)[1]\n",
    "    return av_act\n",
    "\n",
    "available_act = available_actions(initial_state)\n",
    "\n",
    "def sample_next_action(available_actions_range):\n",
    "    next_action = int(np.random.choice(available_act, 1))\n",
    "    return next_action\n",
    "\n",
    "action = sample_next_action(available_act)\n",
    "\n",
    "def update(current_state, action, gamma):\n",
    "    max_index = np.where(Q[action,] == np.max(Q[action,]))[1]\n",
    "    if max_index.shape[0] > 1:\n",
    "        max_index = int(np.random.choce(max_index, size = 1))\n",
    "    else:\n",
    "        max_index = int(max_index)\n",
    "    max_value = Q[action, max_index]\n",
    "    Q[current_state, action] = Q[current_state, action] + gamma * max_value\n",
    "    print('max_value', Q[current_state, action] + gamma * max_value)\n",
    "\n",
    "    if (np.max(Q) > 0):\n",
    "        return (np.sum(Q/np.max(Q)*100))\n",
    "    else:\n",
    "        return (0)\n",
    "        \n",
    "update(initial_state, action, gamma)"
   ]
  },
  {
   "cell_type": "code",
   "execution_count": null,
   "id": "1c5e9d07-3369-460e-bc4d-bad252425539",
   "metadata": {},
   "outputs": [],
   "source": []
  }
 ],
 "metadata": {
  "kernelspec": {
   "display_name": "Python 3 (ipykernel)",
   "language": "python",
   "name": "python3"
  },
  "language_info": {
   "codemirror_mode": {
    "name": "ipython",
    "version": 3
   },
   "file_extension": ".py",
   "mimetype": "text/x-python",
   "name": "python",
   "nbconvert_exporter": "python",
   "pygments_lexer": "ipython3",
   "version": "3.12.4"
  }
 },
 "nbformat": 4,
 "nbformat_minor": 5
}
